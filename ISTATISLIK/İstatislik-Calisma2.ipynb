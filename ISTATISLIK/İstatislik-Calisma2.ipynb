{
 "cells": [
  {
   "cell_type": "code",
   "execution_count": 5,
   "id": "3f371f27",
   "metadata": {},
   "outputs": [],
   "source": [
    "import numpy as np\n",
    "import pandas as pd\n",
    "import seaborn as sns\n",
    "import matplotlib.pyplot as plt\n",
    "from pandas.plotting import register_matplotlib_converters\n",
    "from pylab import rcParams\n",
    "sns.set_style(\"darkgrid\")\n",
    "\n",
    "import warnings\n",
    "warnings.filterwarnings(\"ignore\")\n",
    "\n",
    "# Set it None to display all rows in the dataframe\n",
    "# pd.set_option('display.max_rows', None)\n",
    "\n",
    "# Set it to None to display all columns in the dataframe\n",
    "pd.set_option('display.max_columns', None)\n",
    "from scipy import stats\n"
   ]
  },
  {
   "cell_type": "code",
   "execution_count": 6,
   "id": "22c9927f",
   "metadata": {},
   "outputs": [
    {
     "data": {
      "text/plain": [
       "['anagrams',\n",
       " 'anscombe',\n",
       " 'attention',\n",
       " 'brain_networks',\n",
       " 'car_crashes',\n",
       " 'diamonds',\n",
       " 'dots',\n",
       " 'dowjones',\n",
       " 'exercise',\n",
       " 'flights',\n",
       " 'fmri',\n",
       " 'geyser',\n",
       " 'glue',\n",
       " 'healthexp',\n",
       " 'iris',\n",
       " 'mpg',\n",
       " 'penguins',\n",
       " 'planets',\n",
       " 'seaice',\n",
       " 'taxis',\n",
       " 'tips',\n",
       " 'titanic']"
      ]
     },
     "execution_count": 6,
     "metadata": {},
     "output_type": "execute_result"
    }
   ],
   "source": [
    "sns.get_dataset_names()"
   ]
  },
  {
   "cell_type": "code",
   "execution_count": 9,
   "id": "95b7f777",
   "metadata": {},
   "outputs": [
    {
     "data": {
      "text/html": [
       "<div>\n",
       "<style scoped>\n",
       "    .dataframe tbody tr th:only-of-type {\n",
       "        vertical-align: middle;\n",
       "    }\n",
       "\n",
       "    .dataframe tbody tr th {\n",
       "        vertical-align: top;\n",
       "    }\n",
       "\n",
       "    .dataframe thead th {\n",
       "        text-align: right;\n",
       "    }\n",
       "</style>\n",
       "<table border=\"1\" class=\"dataframe\">\n",
       "  <thead>\n",
       "    <tr style=\"text-align: right;\">\n",
       "      <th></th>\n",
       "      <th>total_bill</th>\n",
       "      <th>tip</th>\n",
       "      <th>sex</th>\n",
       "      <th>smoker</th>\n",
       "      <th>day</th>\n",
       "      <th>time</th>\n",
       "      <th>size</th>\n",
       "    </tr>\n",
       "  </thead>\n",
       "  <tbody>\n",
       "    <tr>\n",
       "      <th>0</th>\n",
       "      <td>16.99</td>\n",
       "      <td>1.01</td>\n",
       "      <td>Female</td>\n",
       "      <td>No</td>\n",
       "      <td>Sun</td>\n",
       "      <td>Dinner</td>\n",
       "      <td>2</td>\n",
       "    </tr>\n",
       "    <tr>\n",
       "      <th>1</th>\n",
       "      <td>10.34</td>\n",
       "      <td>1.66</td>\n",
       "      <td>Male</td>\n",
       "      <td>No</td>\n",
       "      <td>Sun</td>\n",
       "      <td>Dinner</td>\n",
       "      <td>3</td>\n",
       "    </tr>\n",
       "    <tr>\n",
       "      <th>2</th>\n",
       "      <td>21.01</td>\n",
       "      <td>3.50</td>\n",
       "      <td>Male</td>\n",
       "      <td>No</td>\n",
       "      <td>Sun</td>\n",
       "      <td>Dinner</td>\n",
       "      <td>3</td>\n",
       "    </tr>\n",
       "    <tr>\n",
       "      <th>3</th>\n",
       "      <td>23.68</td>\n",
       "      <td>3.31</td>\n",
       "      <td>Male</td>\n",
       "      <td>No</td>\n",
       "      <td>Sun</td>\n",
       "      <td>Dinner</td>\n",
       "      <td>2</td>\n",
       "    </tr>\n",
       "    <tr>\n",
       "      <th>4</th>\n",
       "      <td>24.59</td>\n",
       "      <td>3.61</td>\n",
       "      <td>Female</td>\n",
       "      <td>No</td>\n",
       "      <td>Sun</td>\n",
       "      <td>Dinner</td>\n",
       "      <td>4</td>\n",
       "    </tr>\n",
       "  </tbody>\n",
       "</table>\n",
       "</div>"
      ],
      "text/plain": [
       "   total_bill   tip     sex smoker  day    time  size\n",
       "0       16.99  1.01  Female     No  Sun  Dinner     2\n",
       "1       10.34  1.66    Male     No  Sun  Dinner     3\n",
       "2       21.01  3.50    Male     No  Sun  Dinner     3\n",
       "3       23.68  3.31    Male     No  Sun  Dinner     2\n",
       "4       24.59  3.61  Female     No  Sun  Dinner     4"
      ]
     },
     "execution_count": 9,
     "metadata": {},
     "output_type": "execute_result"
    }
   ],
   "source": [
    "tips = sns.load_dataset(\"tips\")\n",
    "tips.head()"
   ]
  },
  {
   "cell_type": "code",
   "execution_count": 20,
   "id": "9fcdf8a7",
   "metadata": {},
   "outputs": [
    {
     "data": {
      "text/html": [
       "<div>\n",
       "<style scoped>\n",
       "    .dataframe tbody tr th:only-of-type {\n",
       "        vertical-align: middle;\n",
       "    }\n",
       "\n",
       "    .dataframe tbody tr th {\n",
       "        vertical-align: top;\n",
       "    }\n",
       "\n",
       "    .dataframe thead th {\n",
       "        text-align: right;\n",
       "    }\n",
       "</style>\n",
       "<table border=\"1\" class=\"dataframe\">\n",
       "  <thead>\n",
       "    <tr style=\"text-align: right;\">\n",
       "      <th></th>\n",
       "      <th>count</th>\n",
       "      <th>mean</th>\n",
       "      <th>std</th>\n",
       "      <th>min</th>\n",
       "      <th>25%</th>\n",
       "      <th>50%</th>\n",
       "      <th>75%</th>\n",
       "      <th>max</th>\n",
       "    </tr>\n",
       "  </thead>\n",
       "  <tbody>\n",
       "    <tr>\n",
       "      <th>total_bill</th>\n",
       "      <td>244.0</td>\n",
       "      <td>19.785943</td>\n",
       "      <td>8.902412</td>\n",
       "      <td>3.07</td>\n",
       "      <td>13.3475</td>\n",
       "      <td>17.795</td>\n",
       "      <td>24.1275</td>\n",
       "      <td>50.81</td>\n",
       "    </tr>\n",
       "    <tr>\n",
       "      <th>tip</th>\n",
       "      <td>244.0</td>\n",
       "      <td>2.998279</td>\n",
       "      <td>1.383638</td>\n",
       "      <td>1.00</td>\n",
       "      <td>2.0000</td>\n",
       "      <td>2.900</td>\n",
       "      <td>3.5625</td>\n",
       "      <td>10.00</td>\n",
       "    </tr>\n",
       "    <tr>\n",
       "      <th>size</th>\n",
       "      <td>244.0</td>\n",
       "      <td>2.569672</td>\n",
       "      <td>0.951100</td>\n",
       "      <td>1.00</td>\n",
       "      <td>2.0000</td>\n",
       "      <td>2.000</td>\n",
       "      <td>3.0000</td>\n",
       "      <td>6.00</td>\n",
       "    </tr>\n",
       "  </tbody>\n",
       "</table>\n",
       "</div>"
      ],
      "text/plain": [
       "            count       mean       std   min      25%     50%      75%    max\n",
       "total_bill  244.0  19.785943  8.902412  3.07  13.3475  17.795  24.1275  50.81\n",
       "tip         244.0   2.998279  1.383638  1.00   2.0000   2.900   3.5625  10.00\n",
       "size        244.0   2.569672  0.951100  1.00   2.0000   2.000   3.0000   6.00"
      ]
     },
     "execution_count": 20,
     "metadata": {},
     "output_type": "execute_result"
    }
   ],
   "source": [
    "tips.describe().T"
   ]
  },
  {
   "cell_type": "code",
   "execution_count": 21,
   "id": "a1faa67f",
   "metadata": {},
   "outputs": [
    {
     "data": {
      "text/plain": [
       "<AxesSubplot:xlabel='day', ylabel='total_bill'>"
      ]
     },
     "execution_count": 21,
     "metadata": {},
     "output_type": "execute_result"
    },
    {
     "data": {
      "image/png": "[encoded data removed]",
      "text/plain": [
       "<Figure size 432x288 with 1 Axes>"
      ]
     },
     "metadata": {
      "needs_background": "light"
     },
     "output_type": "display_data"
    }
   ],
   "source": [
    "sns.barplot(x=\"day\" , y=\"total_bill\", data=tips, ci=95)"
   ]
  },
  {
   "cell_type": "code",
   "execution_count": 22,
   "id": "f372e9c1",
   "metadata": {},
   "outputs": [],
   "source": [
    "##veri çubuğunun alt ve üstünü ortalaması , standart sapması hesaplama"
   ]
  },
  {
   "cell_type": "code",
   "execution_count": 24,
   "id": "7dd8dd91",
   "metadata": {},
   "outputs": [
    {
     "data": {
      "text/plain": [
       "17.151578947368417"
      ]
     },
     "execution_count": 24,
     "metadata": {},
     "output_type": "execute_result"
    }
   ],
   "source": [
    "tips[tips[\"day\"] == \"Fri\"][\"total_bill\"].mean()"
   ]
  },
  {
   "cell_type": "code",
   "execution_count": 25,
   "id": "481c6af6",
   "metadata": {},
   "outputs": [
    {
     "data": {
      "text/plain": [
       "17.151578947368417"
      ]
     },
     "execution_count": 25,
     "metadata": {},
     "output_type": "execute_result"
    }
   ],
   "source": [
    "xbar = tips[tips[\"day\"] == \"Fri\"][\"total_bill\"].mean()\n",
    "xbar"
   ]
  },
  {
   "cell_type": "code",
   "execution_count": 26,
   "id": "60fa04cf",
   "metadata": {},
   "outputs": [
    {
     "data": {
      "text/plain": [
       "8.302659723217143"
      ]
     },
     "execution_count": 26,
     "metadata": {},
     "output_type": "execute_result"
    }
   ],
   "source": [
    "s = tips[tips[\"day\"] == \"Fri\"][\"total_bill\"].std()   ### standart sapması hesaplama\n",
    "s"
   ]
  },
  {
   "cell_type": "code",
   "execution_count": null,
   "id": "ff103018",
   "metadata": {},
   "outputs": [],
   "source": [
    "### ortalama standart hatası nasıl bulunur"
   ]
  },
  {
   "cell_type": "code",
   "execution_count": 27,
   "id": "4463bbe7",
   "metadata": {},
   "outputs": [
    {
     "data": {
      "text/plain": [
       "1.904760773479416"
      ]
     },
     "execution_count": 27,
     "metadata": {},
     "output_type": "execute_result"
    }
   ],
   "source": [
    "tips[tips[\"day\"] == \"Fri\"][\"total_bill\"].std() / np.sqrt(len(tips[tips[\"day\"] == \"Fri\"][\"total_bill\"]))"
   ]
  },
  {
   "cell_type": "code",
   "execution_count": 28,
   "id": "c7f1853d",
   "metadata": {},
   "outputs": [
    {
     "data": {
      "text/plain": [
       "1.904760773479416"
      ]
     },
     "execution_count": 28,
     "metadata": {},
     "output_type": "execute_result"
    }
   ],
   "source": [
    "sem = tips[tips[\"day\"] == \"Fri\"][\"total_bill\"].sem()   ### standart hatası nasıl bulunur\n",
    "sem\n"
   ]
  },
  {
   "cell_type": "code",
   "execution_count": 29,
   "id": "363ac7ad",
   "metadata": {},
   "outputs": [
    {
     "data": {
      "text/plain": [
       "3.7333311160196554"
      ]
     },
     "execution_count": 29,
     "metadata": {},
     "output_type": "execute_result"
    }
   ],
   "source": [
    "moe = 1.96 * sem\n",
    "moe                               ### hata marjı"
   ]
  },
  {
   "cell_type": "code",
   "execution_count": 30,
   "id": "4b0ce9d5",
   "metadata": {},
   "outputs": [
    {
     "data": {
      "text/plain": [
       "13.418247831348761"
      ]
     },
     "execution_count": 30,
     "metadata": {},
     "output_type": "execute_result"
    }
   ],
   "source": [
    "lower_limit = xbar - moe    ### yada\n",
    "lower_limit"
   ]
  },
  {
   "cell_type": "code",
   "execution_count": 31,
   "id": "3500bcaf",
   "metadata": {},
   "outputs": [
    {
     "data": {
      "text/plain": [
       "20.884910063388073"
      ]
     },
     "execution_count": 31,
     "metadata": {},
     "output_type": "execute_result"
    }
   ],
   "source": [
    "upper_limit = xbar + moe   ## yada \n",
    "upper_limit"
   ]
  },
  {
   "cell_type": "code",
   "execution_count": 33,
   "id": "450def92",
   "metadata": {},
   "outputs": [
    {
     "data": {
      "text/plain": [
       "(13.418316432184106, 20.88484146255273)"
      ]
     },
     "execution_count": 33,
     "metadata": {},
     "output_type": "execute_result"
    }
   ],
   "source": [
    "stats.norm.interval(0.95, loc=xbar, scale=sem)  # tek kod ile bu şekilde"
   ]
  },
  {
   "cell_type": "code",
   "execution_count": 34,
   "id": "8a1071fb",
   "metadata": {},
   "outputs": [
    {
     "data": {
      "text/plain": [
       "19"
      ]
     },
     "execution_count": 34,
     "metadata": {},
     "output_type": "execute_result"
    }
   ],
   "source": [
    "n = len(tips[tips[\"day\"] == \"Fri\"][\"total_bill\"])\n",
    "n"
   ]
  },
  {
   "cell_type": "code",
   "execution_count": 42,
   "id": "dae1647b",
   "metadata": {},
   "outputs": [
    {
     "data": {
      "text/plain": [
       "(13.149825056979093, 21.15333283775774)"
      ]
     },
     "execution_count": 42,
     "metadata": {},
     "output_type": "execute_result"
    }
   ],
   "source": [
    "stats.t.interval(0.95, df=n-1, loc=xbar, scale=sem)    ### en doğru hesaplama t  dağılımını kulanmak GÜVEN ARALIĞI HESAP"
   ]
  },
  {
   "cell_type": "code",
   "execution_count": null,
   "id": "234f22d0",
   "metadata": {},
   "outputs": [],
   "source": [
    "### Relevant dataset  (uygun dataset i seçtik)\n",
    "###mean   (ortalamasını baktık)\n",
    "##standart error of the mean ( std  hatasına baktık)\n",
    "## degrees of freedom ( sem baktık)\n",
    "## confidence interval code from scipy "
   ]
  },
  {
   "cell_type": "code",
   "execution_count": null,
   "id": "c8e23424",
   "metadata": {},
   "outputs": [],
   "source": [
    "### saturday güven aralığını hesaplayalım"
   ]
  },
  {
   "cell_type": "code",
   "execution_count": 43,
   "id": "18ca2603",
   "metadata": {},
   "outputs": [
    {
     "data": {
      "text/plain": [
       "20.441379310344825"
      ]
     },
     "execution_count": 43,
     "metadata": {},
     "output_type": "execute_result"
    }
   ],
   "source": [
    "tips[tips[\"day\"] == \"Sat\"][\"total_bill\"].mean()"
   ]
  },
  {
   "cell_type": "code",
   "execution_count": 44,
   "id": "12e8c3d8",
   "metadata": {},
   "outputs": [
    {
     "data": {
      "text/plain": [
       "20.441379310344825"
      ]
     },
     "execution_count": 44,
     "metadata": {},
     "output_type": "execute_result"
    }
   ],
   "source": [
    "xbar = tips[tips[\"day\"] == \"Sat\"][\"total_bill\"].mean()    ## 1 .sutun ortalama\n",
    "xbar"
   ]
  },
  {
   "cell_type": "code",
   "execution_count": 45,
   "id": "f65c57cb",
   "metadata": {},
   "outputs": [
    {
     "data": {
      "text/plain": [
       "1.016407566061897"
      ]
     },
     "execution_count": 45,
     "metadata": {},
     "output_type": "execute_result"
    }
   ],
   "source": [
    "tips[tips[\"day\"] == \"Sat\"][\"total_bill\"].std() / np.sqrt(len(tips[tips[\"day\"] == \"Sat\"][\"total_bill\"]))"
   ]
  },
  {
   "cell_type": "code",
   "execution_count": 46,
   "id": "39e69602",
   "metadata": {},
   "outputs": [
    {
     "data": {
      "text/plain": [
       "1.016407566061897"
      ]
     },
     "execution_count": 46,
     "metadata": {},
     "output_type": "execute_result"
    }
   ],
   "source": [
    "sem = tips[tips[\"day\"] == \"Sat\"][\"total_bill\"].sem()   ### standart hatası nasıl bulunur   2. sutun hata\n",
    "sem"
   ]
  },
  {
   "cell_type": "code",
   "execution_count": 47,
   "id": "47bc9298",
   "metadata": {},
   "outputs": [
    {
     "data": {
      "text/plain": [
       "(18.449257087249492, 22.433501533440158)"
      ]
     },
     "execution_count": 47,
     "metadata": {},
     "output_type": "execute_result"
    }
   ],
   "source": [
    "stats.norm.interval(0.95, loc=xbar, scale=sem)"
   ]
  },
  {
   "cell_type": "code",
   "execution_count": 48,
   "id": "9a3b2de1",
   "metadata": {},
   "outputs": [
    {
     "data": {
      "text/plain": [
       "87"
      ]
     },
     "execution_count": 48,
     "metadata": {},
     "output_type": "execute_result"
    }
   ],
   "source": [
    "n = len(tips[tips[\"day\"] == \"Sat\"][\"total_bill\"])   #### n 3.satır \n",
    "n"
   ]
  },
  {
   "cell_type": "code",
   "execution_count": 49,
   "id": "d57e84a3",
   "metadata": {},
   "outputs": [
    {
     "data": {
      "text/plain": [
       "(18.420827942450163, 22.461930678239487)"
      ]
     },
     "execution_count": 49,
     "metadata": {},
     "output_type": "execute_result"
    }
   ],
   "source": [
    "stats.t.interval(0.95, df=n-1, loc=xbar, scale=sem)     #### 3.satır ( en doğrusu t dağılımı)"
   ]
  },
  {
   "cell_type": "code",
   "execution_count": 52,
   "id": "22b36b57",
   "metadata": {},
   "outputs": [
    {
     "data": {
      "text/plain": [
       "(18.449257087249492, 22.433501533440158)"
      ]
     },
     "execution_count": 52,
     "metadata": {},
     "output_type": "execute_result"
    }
   ],
   "source": [
    "stats.norm.interval(0.95, xbar , sem)   ### 30 dan sonra norm kullanılıyor.."
   ]
  },
  {
   "cell_type": "code",
   "execution_count": null,
   "id": "bf2f7f16",
   "metadata": {},
   "outputs": [],
   "source": []
  }
 ],
 "metadata": {
  "kernelspec": {
   "display_name": "Python 3 (ipykernel)",
   "language": "python",
   "name": "python3"
  },
  "language_info": {
   "codemirror_mode": {
    "name": "ipython",
    "version": 3
   },
   "file_extension": ".py",
   "mimetype": "text/x-python",
   "name": "python",
   "nbconvert_exporter": "python",
   "pygments_lexer": "ipython3",
   "version": "3.9.12"
  }
 },
 "nbformat": 4,
 "nbformat_minor": 5
}

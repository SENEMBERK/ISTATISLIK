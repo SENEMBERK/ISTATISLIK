{
 "cells": [
  {
   "cell_type": "code",
   "execution_count": 37,
   "id": "5a91236c",
   "metadata": {},
   "outputs": [],
   "source": [
    "import numpy as np\n",
    "import matplotlib.pyplot as plt\n",
    "from scipy import stats\n"
   ]
  },
  {
   "cell_type": "markdown",
   "id": "8418bd00",
   "metadata": {},
   "source": [
    "# EXERCISE 1\n",
    "Suppose scores on exams in statistics are normally distributed with an unknown population mean and a population standard\n",
    "deviation of 3 points. A random sample of 36 scores is taken and gives a sample mean (sample mean score) of 68. Find a confidence interval estimate for the population mean exam score (the mean score on all exams).\n",
    "Find a 90% confidence interval for the true (population) mean of statistics exam scores."
   ]
  },
  {
   "cell_type": "code",
   "execution_count": 38,
   "id": "96c04485",
   "metadata": {},
   "outputs": [],
   "source": [
    "std = 3\n",
    "n = 36\n",
    "xbar = 68\n",
    "sem = 0.5\n",
    "cl = 0.90"
   ]
  },
  {
   "cell_type": "code",
   "execution_count": 39,
   "id": "c4f5b287",
   "metadata": {},
   "outputs": [
    {
     "data": {
      "text/plain": [
       "(67.15521377301812, 68.84478622698188)"
      ]
     },
     "execution_count": 39,
     "metadata": {},
     "output_type": "execute_result"
    }
   ],
   "source": [
    "stats.t.interval(cl, df=n-1, loc=xbar, scale=sem)"
   ]
  },
  {
   "cell_type": "markdown",
   "id": "bb1f1812",
   "metadata": {},
   "source": [
    "# EXERCISE 2.\n",
    "What is the normal body temperature for healthy humans? A random sample of 130 healthy human body temperatures provided by Allen Shoemaker7 yielded 98.25 degrees and standard deviation 0.73 degrees.\n",
    "Give a 99% confidence interval for the average body temperature of healthy people."
   ]
  },
  {
   "cell_type": "code",
   "execution_count": 40,
   "id": "daeef1c0",
   "metadata": {},
   "outputs": [],
   "source": [
    "std = 0,73\n",
    "n = 130\n",
    "xbar = 98.25\n",
    "sem = 0.064\n",
    "cl = 0.99"
   ]
  },
  {
   "cell_type": "code",
   "execution_count": 41,
   "id": "1c23b99a",
   "metadata": {},
   "outputs": [
    {
     "data": {
      "text/plain": [
       "(98.08267336449921, 98.41732663550079)"
      ]
     },
     "execution_count": 41,
     "metadata": {},
     "output_type": "execute_result"
    }
   ],
   "source": [
    "stats.t.interval(cl, df=n-1, loc=xbar, scale=sem)"
   ]
  },
  {
   "cell_type": "markdown",
   "id": "40df706c",
   "metadata": {},
   "source": [
    "# EXERCISE 3.\n",
    "The administrators for a hospital wished to estimate the average number of days required for inpatient treatment of patients between the ages of 25 and 34. A random sample of 500 hospital patients between these ages produced a mean and standard deviation equal to 5.4 and 3.1 days, respectively.\n",
    "Construct a 95% confidence interval for the mean length of stay for the population of patients from which the sample was drawn."
   ]
  },
  {
   "cell_type": "code",
   "execution_count": 42,
   "id": "c61e86d8",
   "metadata": {},
   "outputs": [],
   "source": [
    "std = 3.1\n",
    "n = 500\n",
    "xbar = 5.4\n",
    "sem = 0.14\n",
    "cl = 0.95"
   ]
  },
  {
   "cell_type": "code",
   "execution_count": 43,
   "id": "b685cfa2",
   "metadata": {},
   "outputs": [
    {
     "data": {
      "text/plain": [
       "(5.124937885261727, 5.675062114738274)"
      ]
     },
     "execution_count": 43,
     "metadata": {},
     "output_type": "execute_result"
    }
   ],
   "source": [
    "stats.t.interval(cl, df=n-1, loc=xbar, scale=sem)"
   ]
  },
  {
   "cell_type": "code",
   "execution_count": null,
   "id": "8901f785",
   "metadata": {},
   "outputs": [],
   "source": []
  }
 ],
 "metadata": {
  "kernelspec": {
   "display_name": "Python 3 (ipykernel)",
   "language": "python",
   "name": "python3"
  },
  "language_info": {
   "codemirror_mode": {
    "name": "ipython",
    "version": 3
   },
   "file_extension": ".py",
   "mimetype": "text/x-python",
   "name": "python",
   "nbconvert_exporter": "python",
   "pygments_lexer": "ipython3",
   "version": "3.9.12"
  }
 },
 "nbformat": 4,
 "nbformat_minor": 5
}

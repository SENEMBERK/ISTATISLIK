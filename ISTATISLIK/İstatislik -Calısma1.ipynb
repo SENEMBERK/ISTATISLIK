{
 "cells": [
  {
   "cell_type": "code",
   "execution_count": 4,
   "id": "5034b094",
   "metadata": {},
   "outputs": [],
   "source": [
    "\n",
    "import pandas as pd\n",
    "import scipy.stats as stats"
   ]
  },
  {
   "cell_type": "code",
   "execution_count": null,
   "id": "33c6b7ed",
   "metadata": {},
   "outputs": [],
   "source": [
    "#H0:"
   ]
  },
  {
   "cell_type": "code",
   "execution_count": 5,
   "id": "6d6be7a7",
   "metadata": {},
   "outputs": [
    {
     "data": {
      "text/html": [
       "<div>\n",
       "<style scoped>\n",
       "    .dataframe tbody tr th:only-of-type {\n",
       "        vertical-align: middle;\n",
       "    }\n",
       "\n",
       "    .dataframe tbody tr th {\n",
       "        vertical-align: top;\n",
       "    }\n",
       "\n",
       "    .dataframe thead th {\n",
       "        text-align: right;\n",
       "    }\n",
       "</style>\n",
       "<table border=\"1\" class=\"dataframe\">\n",
       "  <thead>\n",
       "    <tr style=\"text-align: right;\">\n",
       "      <th></th>\n",
       "      <th>Metro Phoenix</th>\n",
       "      <th>x1</th>\n",
       "      <th>Rural Arizona</th>\n",
       "      <th>x2</th>\n",
       "    </tr>\n",
       "  </thead>\n",
       "  <tbody>\n",
       "    <tr>\n",
       "      <th>0</th>\n",
       "      <td>Phoenix</td>\n",
       "      <td>3</td>\n",
       "      <td>Rimrock</td>\n",
       "      <td>48</td>\n",
       "    </tr>\n",
       "    <tr>\n",
       "      <th>1</th>\n",
       "      <td>Chandler</td>\n",
       "      <td>7</td>\n",
       "      <td>Goodyear</td>\n",
       "      <td>44</td>\n",
       "    </tr>\n",
       "    <tr>\n",
       "      <th>2</th>\n",
       "      <td>Gilbert</td>\n",
       "      <td>25</td>\n",
       "      <td>New River</td>\n",
       "      <td>40</td>\n",
       "    </tr>\n",
       "    <tr>\n",
       "      <th>3</th>\n",
       "      <td>Glendale</td>\n",
       "      <td>10</td>\n",
       "      <td>Apache Junction</td>\n",
       "      <td>38</td>\n",
       "    </tr>\n",
       "    <tr>\n",
       "      <th>4</th>\n",
       "      <td>Mesa</td>\n",
       "      <td>15</td>\n",
       "      <td>Buckeye</td>\n",
       "      <td>33</td>\n",
       "    </tr>\n",
       "    <tr>\n",
       "      <th>5</th>\n",
       "      <td>Paradise Valley</td>\n",
       "      <td>6</td>\n",
       "      <td>Nogales</td>\n",
       "      <td>21</td>\n",
       "    </tr>\n",
       "    <tr>\n",
       "      <th>6</th>\n",
       "      <td>Peoria</td>\n",
       "      <td>12</td>\n",
       "      <td>Black Canyon City</td>\n",
       "      <td>20</td>\n",
       "    </tr>\n",
       "    <tr>\n",
       "      <th>7</th>\n",
       "      <td>Scottsdale</td>\n",
       "      <td>25</td>\n",
       "      <td>Sedona</td>\n",
       "      <td>12</td>\n",
       "    </tr>\n",
       "    <tr>\n",
       "      <th>8</th>\n",
       "      <td>Tempe</td>\n",
       "      <td>15</td>\n",
       "      <td>Payson</td>\n",
       "      <td>1</td>\n",
       "    </tr>\n",
       "    <tr>\n",
       "      <th>9</th>\n",
       "      <td>Sun City</td>\n",
       "      <td>7</td>\n",
       "      <td>Casa Grande</td>\n",
       "      <td>18</td>\n",
       "    </tr>\n",
       "  </tbody>\n",
       "</table>\n",
       "</div>"
      ],
      "text/plain": [
       "     Metro Phoenix  x1      Rural Arizona  x2\n",
       "0          Phoenix   3            Rimrock  48\n",
       "1         Chandler   7           Goodyear  44\n",
       "2          Gilbert  25          New River  40\n",
       "3         Glendale  10    Apache Junction  38\n",
       "4             Mesa  15            Buckeye  33\n",
       "5  Paradise Valley   6            Nogales  21\n",
       "6           Peoria  12  Black Canyon City  20\n",
       "7       Scottsdale  25             Sedona  12\n",
       "8            Tempe  15             Payson   1\n",
       "9         Sun City   7        Casa Grande  18"
      ]
     },
     "execution_count": 5,
     "metadata": {},
     "output_type": "execute_result"
    }
   ],
   "source": [
    "df = pd.read_csv(\"arsenic.csv\")\n",
    "df"
   ]
  },
  {
   "cell_type": "code",
   "execution_count": 6,
   "id": "0161c2e3",
   "metadata": {},
   "outputs": [
    {
     "data": {
      "text/plain": [
       "12.5"
      ]
     },
     "execution_count": 6,
     "metadata": {},
     "output_type": "execute_result"
    }
   ],
   "source": [
    "df.x1.mean()    # ortalamaları"
   ]
  },
  {
   "cell_type": "code",
   "execution_count": 7,
   "id": "4b17e4c3",
   "metadata": {},
   "outputs": [
    {
     "data": {
      "text/plain": [
       "27.5"
      ]
     },
     "execution_count": 7,
     "metadata": {},
     "output_type": "execute_result"
    }
   ],
   "source": [
    "df.x2.mean() "
   ]
  },
  {
   "cell_type": "code",
   "execution_count": 8,
   "id": "d217eb4c",
   "metadata": {},
   "outputs": [
    {
     "data": {
      "text/plain": [
       "Ttest_indResult(statistic=-2.7669395785560553, pvalue=0.012704425122128032)"
      ]
     },
     "execution_count": 8,
     "metadata": {},
     "output_type": "execute_result"
    }
   ],
   "source": [
    "stats.ttest_ind(df.x1, df.x2)"
   ]
  },
  {
   "cell_type": "code",
   "execution_count": 9,
   "id": "e48f7fcb",
   "metadata": {},
   "outputs": [],
   "source": [
    "indTest = stats.ttest_ind(df.x1, df.x2)"
   ]
  },
  {
   "cell_type": "code",
   "execution_count": 10,
   "id": "5ff75a42",
   "metadata": {},
   "outputs": [
    {
     "data": {
      "text/plain": [
       "-2.7669395785560553"
      ]
     },
     "execution_count": 10,
     "metadata": {},
     "output_type": "execute_result"
    }
   ],
   "source": [
    "indTest.statistic"
   ]
  },
  {
   "cell_type": "code",
   "execution_count": 12,
   "id": "1b795033",
   "metadata": {},
   "outputs": [
    {
     "data": {
      "text/plain": [
       "0.012704425122128032"
      ]
     },
     "execution_count": 12,
     "metadata": {},
     "output_type": "execute_result"
    }
   ],
   "source": [
    "indTest.pvalue"
   ]
  },
  {
   "cell_type": "code",
   "execution_count": 13,
   "id": "351b5663",
   "metadata": {},
   "outputs": [
    {
     "name": "stdout",
     "output_type": "stream",
     "text": [
      "Reject the Null\n"
     ]
    }
   ],
   "source": [
    "alpha = 0.05                         ### tamamı yorum ; şehir bölgesi ile kırsal bçlgenin arasında anlamlılık farkı yoktur, fakat 0.05 alfa yı onun için aldık \n",
    "if indTest.pvalue < alpha:\n",
    "    print(\"Reject the Null\")         ##öyleyse %95 doğrulukla reject the null diyoruz. %5 hata olabilir. yani % 5 reject the null olmama ihtimali var diyebilir miyiz\n",
    "else:\n",
    "    print(\"Fail to reject\")"
   ]
  },
  {
   "cell_type": "code",
   "execution_count": 14,
   "id": "54eee024",
   "metadata": {},
   "outputs": [
    {
     "data": {
      "text/html": [
       "<div>\n",
       "<style scoped>\n",
       "    .dataframe tbody tr th:only-of-type {\n",
       "        vertical-align: middle;\n",
       "    }\n",
       "\n",
       "    .dataframe tbody tr th {\n",
       "        vertical-align: top;\n",
       "    }\n",
       "\n",
       "    .dataframe thead th {\n",
       "        text-align: right;\n",
       "    }\n",
       "</style>\n",
       "<table border=\"1\" class=\"dataframe\">\n",
       "  <thead>\n",
       "    <tr style=\"text-align: right;\">\n",
       "      <th></th>\n",
       "      <th>moodpre</th>\n",
       "      <th>moodpost</th>\n",
       "      <th>difference</th>\n",
       "    </tr>\n",
       "  </thead>\n",
       "  <tbody>\n",
       "    <tr>\n",
       "      <th>0</th>\n",
       "      <td>3</td>\n",
       "      <td>5</td>\n",
       "      <td>2</td>\n",
       "    </tr>\n",
       "    <tr>\n",
       "      <th>1</th>\n",
       "      <td>0</td>\n",
       "      <td>1</td>\n",
       "      <td>1</td>\n",
       "    </tr>\n",
       "    <tr>\n",
       "      <th>2</th>\n",
       "      <td>6</td>\n",
       "      <td>5</td>\n",
       "      <td>-1</td>\n",
       "    </tr>\n",
       "    <tr>\n",
       "      <th>3</th>\n",
       "      <td>7</td>\n",
       "      <td>7</td>\n",
       "      <td>0</td>\n",
       "    </tr>\n",
       "    <tr>\n",
       "      <th>4</th>\n",
       "      <td>4</td>\n",
       "      <td>10</td>\n",
       "      <td>6</td>\n",
       "    </tr>\n",
       "    <tr>\n",
       "      <th>5</th>\n",
       "      <td>3</td>\n",
       "      <td>9</td>\n",
       "      <td>6</td>\n",
       "    </tr>\n",
       "    <tr>\n",
       "      <th>6</th>\n",
       "      <td>2</td>\n",
       "      <td>7</td>\n",
       "      <td>5</td>\n",
       "    </tr>\n",
       "    <tr>\n",
       "      <th>7</th>\n",
       "      <td>1</td>\n",
       "      <td>11</td>\n",
       "      <td>10</td>\n",
       "    </tr>\n",
       "    <tr>\n",
       "      <th>8</th>\n",
       "      <td>4</td>\n",
       "      <td>8</td>\n",
       "      <td>4</td>\n",
       "    </tr>\n",
       "  </tbody>\n",
       "</table>\n",
       "</div>"
      ],
      "text/plain": [
       "   moodpre  moodpost  difference\n",
       "0        3         5           2\n",
       "1        0         1           1\n",
       "2        6         5          -1\n",
       "3        7         7           0\n",
       "4        4        10           6\n",
       "5        3         9           6\n",
       "6        2         7           5\n",
       "7        1        11          10\n",
       "8        4         8           4"
      ]
     },
     "execution_count": 14,
     "metadata": {},
     "output_type": "execute_result"
    }
   ],
   "source": [
    "prozac = pd.read_csv(\"prozac.csv\")\n",
    "prozac"
   ]
  },
  {
   "cell_type": "markdown",
   "id": "0b865e48",
   "metadata": {},
   "source": [
    "prozac tedavisi etkilimi değilmi ona bakıcaz"
   ]
  },
  {
   "cell_type": "code",
   "execution_count": 15,
   "id": "72d039b6",
   "metadata": {},
   "outputs": [
    {
     "data": {
      "text/plain": [
       "Ttest_relResult(statistic=3.1428571428571423, pvalue=0.006872912197394246)"
      ]
     },
     "execution_count": 15,
     "metadata": {},
     "output_type": "execute_result"
    }
   ],
   "source": [
    "stats.ttest_rel(prozac.moodpost, prozac.moodpre, alternative='greater')"
   ]
  },
  {
   "cell_type": "code",
   "execution_count": 16,
   "id": "443b0c8c",
   "metadata": {},
   "outputs": [
    {
     "data": {
      "text/plain": [
       "Ttest_relResult(statistic=-3.1428571428571423, pvalue=0.006872912197394246)"
      ]
     },
     "execution_count": 16,
     "metadata": {},
     "output_type": "execute_result"
    }
   ],
   "source": [
    "stats.ttest_rel(prozac.moodpre, prozac.moodpost, alternative='less')"
   ]
  },
  {
   "cell_type": "code",
   "execution_count": null,
   "id": "2f2b6751",
   "metadata": {},
   "outputs": [],
   "source": []
  },
  {
   "cell_type": "code",
   "execution_count": 17,
   "id": "03e45e55",
   "metadata": {},
   "outputs": [
    {
     "data": {
      "text/html": [
       "<div>\n",
       "<style scoped>\n",
       "    .dataframe tbody tr th:only-of-type {\n",
       "        vertical-align: middle;\n",
       "    }\n",
       "\n",
       "    .dataframe tbody tr th {\n",
       "        vertical-align: top;\n",
       "    }\n",
       "\n",
       "    .dataframe thead th {\n",
       "        text-align: right;\n",
       "    }\n",
       "</style>\n",
       "<table border=\"1\" class=\"dataframe\">\n",
       "  <thead>\n",
       "    <tr style=\"text-align: right;\">\n",
       "      <th></th>\n",
       "      <th>ids</th>\n",
       "      <th>bday</th>\n",
       "      <th>enrolldate</th>\n",
       "      <th>expgradate</th>\n",
       "      <th>Rank</th>\n",
       "      <th>Major</th>\n",
       "      <th>Gender</th>\n",
       "      <th>Athlete</th>\n",
       "      <th>Height</th>\n",
       "      <th>Weight</th>\n",
       "      <th>Smoking</th>\n",
       "      <th>Sprint</th>\n",
       "      <th>MileMinDur</th>\n",
       "      <th>English</th>\n",
       "      <th>Reading</th>\n",
       "      <th>Math</th>\n",
       "      <th>Writing</th>\n",
       "      <th>State</th>\n",
       "      <th>LiveOnCampus</th>\n",
       "      <th>HowCommute</th>\n",
       "      <th>CommuteTime</th>\n",
       "      <th>SleepTime</th>\n",
       "      <th>StudyTime</th>\n",
       "    </tr>\n",
       "  </thead>\n",
       "  <tbody>\n",
       "    <tr>\n",
       "      <th>0</th>\n",
       "      <td>43783</td>\n",
       "      <td>3/22/1995</td>\n",
       "      <td></td>\n",
       "      <td></td>\n",
       "      <td></td>\n",
       "      <td></td>\n",
       "      <td>0</td>\n",
       "      <td>0</td>\n",
       "      <td>72.35</td>\n",
       "      <td></td>\n",
       "      <td>0</td>\n",
       "      <td>7.978</td>\n",
       "      <td></td>\n",
       "      <td>88.24</td>\n",
       "      <td>81.5</td>\n",
       "      <td>60.02</td>\n",
       "      <td>81.44</td>\n",
       "      <td>In state</td>\n",
       "      <td>1</td>\n",
       "      <td></td>\n",
       "      <td></td>\n",
       "      <td>7</td>\n",
       "      <td>1</td>\n",
       "    </tr>\n",
       "    <tr>\n",
       "      <th>1</th>\n",
       "      <td>20278</td>\n",
       "      <td>1/1/1995</td>\n",
       "      <td></td>\n",
       "      <td></td>\n",
       "      <td></td>\n",
       "      <td>Philosophy</td>\n",
       "      <td>0</td>\n",
       "      <td>0</td>\n",
       "      <td>70.66</td>\n",
       "      <td>179.2</td>\n",
       "      <td>0</td>\n",
       "      <td>8.004</td>\n",
       "      <td>0:06:21</td>\n",
       "      <td>89.45</td>\n",
       "      <td>85.25</td>\n",
       "      <td>70.19</td>\n",
       "      <td>73.27</td>\n",
       "      <td></td>\n",
       "      <td>1</td>\n",
       "      <td></td>\n",
       "      <td></td>\n",
       "      <td>5</td>\n",
       "      <td>2</td>\n",
       "    </tr>\n",
       "    <tr>\n",
       "      <th>2</th>\n",
       "      <td>20389</td>\n",
       "      <td>12/31/1994</td>\n",
       "      <td></td>\n",
       "      <td></td>\n",
       "      <td></td>\n",
       "      <td></td>\n",
       "      <td>0</td>\n",
       "      <td>0</td>\n",
       "      <td>70.68</td>\n",
       "      <td>198.52</td>\n",
       "      <td>0</td>\n",
       "      <td></td>\n",
       "      <td>0:07:00</td>\n",
       "      <td>96.73</td>\n",
       "      <td>86.88</td>\n",
       "      <td>71.2</td>\n",
       "      <td>84.24</td>\n",
       "      <td>In state</td>\n",
       "      <td></td>\n",
       "      <td></td>\n",
       "      <td></td>\n",
       "      <td>8</td>\n",
       "      <td>7</td>\n",
       "    </tr>\n",
       "    <tr>\n",
       "      <th>3</th>\n",
       "      <td>22820</td>\n",
       "      <td>12/1/1994</td>\n",
       "      <td></td>\n",
       "      <td></td>\n",
       "      <td></td>\n",
       "      <td>business administration</td>\n",
       "      <td>1</td>\n",
       "      <td>0</td>\n",
       "      <td></td>\n",
       "      <td>198.34</td>\n",
       "      <td></td>\n",
       "      <td>8.473</td>\n",
       "      <td>0:12:44</td>\n",
       "      <td>74.06</td>\n",
       "      <td>88.68</td>\n",
       "      <td>55.89</td>\n",
       "      <td>73.16</td>\n",
       "      <td>In state</td>\n",
       "      <td>1</td>\n",
       "      <td></td>\n",
       "      <td></td>\n",
       "      <td>2</td>\n",
       "      <td>6</td>\n",
       "    </tr>\n",
       "    <tr>\n",
       "      <th>4</th>\n",
       "      <td>24559</td>\n",
       "      <td>11/10/1994</td>\n",
       "      <td></td>\n",
       "      <td></td>\n",
       "      <td></td>\n",
       "      <td></td>\n",
       "      <td>1</td>\n",
       "      <td>1</td>\n",
       "      <td>67.43</td>\n",
       "      <td>128.17</td>\n",
       "      <td>2</td>\n",
       "      <td></td>\n",
       "      <td>0:06:25</td>\n",
       "      <td>82.61</td>\n",
       "      <td>77.3</td>\n",
       "      <td>65.52</td>\n",
       "      <td>80.45</td>\n",
       "      <td>Out of state</td>\n",
       "      <td>1</td>\n",
       "      <td></td>\n",
       "      <td></td>\n",
       "      <td>7</td>\n",
       "      <td>3</td>\n",
       "    </tr>\n",
       "    <tr>\n",
       "      <th>...</th>\n",
       "      <td>...</td>\n",
       "      <td>...</td>\n",
       "      <td>...</td>\n",
       "      <td>...</td>\n",
       "      <td>...</td>\n",
       "      <td>...</td>\n",
       "      <td>...</td>\n",
       "      <td>...</td>\n",
       "      <td>...</td>\n",
       "      <td>...</td>\n",
       "      <td>...</td>\n",
       "      <td>...</td>\n",
       "      <td>...</td>\n",
       "      <td>...</td>\n",
       "      <td>...</td>\n",
       "      <td>...</td>\n",
       "      <td>...</td>\n",
       "      <td>...</td>\n",
       "      <td>...</td>\n",
       "      <td>...</td>\n",
       "      <td>...</td>\n",
       "      <td>...</td>\n",
       "      <td>...</td>\n",
       "    </tr>\n",
       "    <tr>\n",
       "      <th>430</th>\n",
       "      <td>34021</td>\n",
       "      <td>7/18/1987</td>\n",
       "      <td>1-Aug-2011</td>\n",
       "      <td>08-May-2017</td>\n",
       "      <td>4</td>\n",
       "      <td>accounting</td>\n",
       "      <td>1</td>\n",
       "      <td>0</td>\n",
       "      <td></td>\n",
       "      <td></td>\n",
       "      <td>0</td>\n",
       "      <td></td>\n",
       "      <td>0:12:55</td>\n",
       "      <td>87.72</td>\n",
       "      <td>84.99</td>\n",
       "      <td>65.31</td>\n",
       "      <td></td>\n",
       "      <td>In state</td>\n",
       "      <td>0</td>\n",
       "      <td>1</td>\n",
       "      <td>18</td>\n",
       "      <td>1</td>\n",
       "      <td>10</td>\n",
       "    </tr>\n",
       "    <tr>\n",
       "      <th>431</th>\n",
       "      <td>40697</td>\n",
       "      <td>4/29/1987</td>\n",
       "      <td>1-Aug-2011</td>\n",
       "      <td>09-May-2016</td>\n",
       "      <td>4</td>\n",
       "      <td></td>\n",
       "      <td>0</td>\n",
       "      <td>0</td>\n",
       "      <td>68.5</td>\n",
       "      <td>131.92</td>\n",
       "      <td>0</td>\n",
       "      <td>9.125</td>\n",
       "      <td>0:08:33</td>\n",
       "      <td>91.01</td>\n",
       "      <td>86.87</td>\n",
       "      <td>70.25</td>\n",
       "      <td>82.67</td>\n",
       "      <td>In state</td>\n",
       "      <td>0</td>\n",
       "      <td>3</td>\n",
       "      <td>26</td>\n",
       "      <td>6</td>\n",
       "      <td>15</td>\n",
       "    </tr>\n",
       "    <tr>\n",
       "      <th>432</th>\n",
       "      <td>34272</td>\n",
       "      <td></td>\n",
       "      <td>1-Aug-2011</td>\n",
       "      <td>09-May-2016</td>\n",
       "      <td>4</td>\n",
       "      <td>nursing</td>\n",
       "      <td>0</td>\n",
       "      <td>1</td>\n",
       "      <td>68.1</td>\n",
       "      <td>130.07</td>\n",
       "      <td>0</td>\n",
       "      <td></td>\n",
       "      <td></td>\n",
       "      <td>81.05</td>\n",
       "      <td>85.76</td>\n",
       "      <td>58.16</td>\n",
       "      <td>81.87</td>\n",
       "      <td></td>\n",
       "      <td>0</td>\n",
       "      <td>3</td>\n",
       "      <td>29</td>\n",
       "      <td>6</td>\n",
       "      <td>10</td>\n",
       "    </tr>\n",
       "    <tr>\n",
       "      <th>433</th>\n",
       "      <td>33628</td>\n",
       "      <td></td>\n",
       "      <td>1-Aug-2011</td>\n",
       "      <td>08-May-2017</td>\n",
       "      <td>4</td>\n",
       "      <td>Nursing</td>\n",
       "      <td>1</td>\n",
       "      <td>1</td>\n",
       "      <td>69.27</td>\n",
       "      <td>157.26</td>\n",
       "      <td>2</td>\n",
       "      <td>6.905</td>\n",
       "      <td>0:08:26</td>\n",
       "      <td>75.59</td>\n",
       "      <td>85.97</td>\n",
       "      <td>66.84</td>\n",
       "      <td>79.35</td>\n",
       "      <td>In state</td>\n",
       "      <td>0</td>\n",
       "      <td>1</td>\n",
       "      <td>14</td>\n",
       "      <td>4</td>\n",
       "      <td>10</td>\n",
       "    </tr>\n",
       "    <tr>\n",
       "      <th>434</th>\n",
       "      <td>39298</td>\n",
       "      <td></td>\n",
       "      <td>1-Aug-2011</td>\n",
       "      <td>08-May-2017</td>\n",
       "      <td>4</td>\n",
       "      <td></td>\n",
       "      <td>1</td>\n",
       "      <td>1</td>\n",
       "      <td>66.68</td>\n",
       "      <td>152.33</td>\n",
       "      <td>1</td>\n",
       "      <td>6.233</td>\n",
       "      <td>0:07:13</td>\n",
       "      <td>75.65</td>\n",
       "      <td>77.24</td>\n",
       "      <td>60.24</td>\n",
       "      <td>75.23</td>\n",
       "      <td>In state</td>\n",
       "      <td>0</td>\n",
       "      <td>3</td>\n",
       "      <td>27</td>\n",
       "      <td>2</td>\n",
       "      <td>10</td>\n",
       "    </tr>\n",
       "  </tbody>\n",
       "</table>\n",
       "<p>435 rows × 23 columns</p>\n",
       "</div>"
      ],
      "text/plain": [
       "       ids        bday  enrolldate   expgradate Rank                    Major  \\\n",
       "0    43783   3/22/1995                                                          \n",
       "1    20278    1/1/1995                                             Philosophy   \n",
       "2    20389  12/31/1994                                                          \n",
       "3    22820   12/1/1994                                business administration   \n",
       "4    24559  11/10/1994                                                          \n",
       "..     ...         ...         ...          ...  ...                      ...   \n",
       "430  34021   7/18/1987  1-Aug-2011  08-May-2017    4               accounting   \n",
       "431  40697   4/29/1987  1-Aug-2011  09-May-2016    4                            \n",
       "432  34272              1-Aug-2011  09-May-2016    4                  nursing   \n",
       "433  33628              1-Aug-2011  08-May-2017    4                  Nursing   \n",
       "434  39298              1-Aug-2011  08-May-2017    4                            \n",
       "\n",
       "    Gender  Athlete Height  Weight Smoking Sprint MileMinDur English Reading  \\\n",
       "0        0        0  72.35               0  7.978              88.24    81.5   \n",
       "1        0        0  70.66   179.2       0  8.004    0:06:21   89.45   85.25   \n",
       "2        0        0  70.68  198.52       0           0:07:00   96.73   86.88   \n",
       "3        1        0         198.34          8.473    0:12:44   74.06   88.68   \n",
       "4        1        1  67.43  128.17       2           0:06:25   82.61    77.3   \n",
       "..     ...      ...    ...     ...     ...    ...        ...     ...     ...   \n",
       "430      1        0                      0           0:12:55   87.72   84.99   \n",
       "431      0        0   68.5  131.92       0  9.125    0:08:33   91.01   86.87   \n",
       "432      0        1   68.1  130.07       0                     81.05   85.76   \n",
       "433      1        1  69.27  157.26       2  6.905    0:08:26   75.59   85.97   \n",
       "434      1        1  66.68  152.33       1  6.233    0:07:13   75.65   77.24   \n",
       "\n",
       "      Math Writing         State LiveOnCampus HowCommute CommuteTime  \\\n",
       "0    60.02   81.44      In state            1                          \n",
       "1    70.19   73.27                          1                          \n",
       "2     71.2   84.24      In state                                       \n",
       "3    55.89   73.16      In state            1                          \n",
       "4    65.52   80.45  Out of state            1                          \n",
       "..     ...     ...           ...          ...        ...         ...   \n",
       "430  65.31              In state            0          1          18   \n",
       "431  70.25   82.67      In state            0          3          26   \n",
       "432  58.16   81.87                          0          3          29   \n",
       "433  66.84   79.35      In state            0          1          14   \n",
       "434  60.24   75.23      In state            0          3          27   \n",
       "\n",
       "    SleepTime StudyTime  \n",
       "0           7         1  \n",
       "1           5         2  \n",
       "2           8         7  \n",
       "3           2         6  \n",
       "4           7         3  \n",
       "..        ...       ...  \n",
       "430         1        10  \n",
       "431         6        15  \n",
       "432         6        10  \n",
       "433         4        10  \n",
       "434         2        10  \n",
       "\n",
       "[435 rows x 23 columns]"
      ]
     },
     "execution_count": 17,
     "metadata": {},
     "output_type": "execute_result"
    }
   ],
   "source": [
    "student = pd.read_csv(\"students_2014.csv\")\n",
    "student"
   ]
  },
  {
   "cell_type": "code",
   "execution_count": 18,
   "id": "e0fbcef6",
   "metadata": {},
   "outputs": [
    {
     "name": "stdout",
     "output_type": "stream",
     "text": [
      "<class 'pandas.core.frame.DataFrame'>\n",
      "RangeIndex: 435 entries, 0 to 434\n",
      "Data columns (total 23 columns):\n",
      " #   Column        Non-Null Count  Dtype \n",
      "---  ------        --------------  ----- \n",
      " 0   ids           435 non-null    int64 \n",
      " 1   bday          435 non-null    object\n",
      " 2   enrolldate    435 non-null    object\n",
      " 3   expgradate    435 non-null    object\n",
      " 4   Rank          435 non-null    object\n",
      " 5   Major         434 non-null    object\n",
      " 6   Gender        435 non-null    object\n",
      " 7   Athlete       435 non-null    int64 \n",
      " 8   Height        435 non-null    object\n",
      " 9   Weight        435 non-null    object\n",
      " 10  Smoking       435 non-null    object\n",
      " 11  Sprint        435 non-null    object\n",
      " 12  MileMinDur    435 non-null    object\n",
      " 13  English       435 non-null    object\n",
      " 14  Reading       435 non-null    object\n",
      " 15  Math          435 non-null    object\n",
      " 16  Writing       435 non-null    object\n",
      " 17  State         435 non-null    object\n",
      " 18  LiveOnCampus  435 non-null    object\n",
      " 19  HowCommute    435 non-null    object\n",
      " 20  CommuteTime   435 non-null    object\n",
      " 21  SleepTime     435 non-null    object\n",
      " 22  StudyTime     435 non-null    object\n",
      "dtypes: int64(2), object(21)\n",
      "memory usage: 78.3+ KB\n"
     ]
    }
   ],
   "source": [
    "student.info()"
   ]
  },
  {
   "cell_type": "code",
   "execution_count": 20,
   "id": "12924afa",
   "metadata": {},
   "outputs": [],
   "source": [
    "student[\"Smoking\"] = pd.to_numeric(student[\"Smoking\"], errors=\"coerce\")"
   ]
  },
  {
   "cell_type": "code",
   "execution_count": 21,
   "id": "8588f5f9",
   "metadata": {},
   "outputs": [],
   "source": [
    "student[\"Sprint\"] = pd.to_numeric(student[\"Sprint\"], errors=\"coerce\")"
   ]
  },
  {
   "cell_type": "code",
   "execution_count": 26,
   "id": "592e8b3e",
   "metadata": {},
   "outputs": [],
   "source": [
    "student = student[[\"Sprint\", \"Smoking\"]].dropna()"
   ]
  },
  {
   "cell_type": "code",
   "execution_count": 25,
   "id": "75958670",
   "metadata": {},
   "outputs": [
    {
     "data": {
      "text/plain": [
       "F_onewayResult(statistic=9.208599845380919, pvalue=0.00012659768158159465)"
      ]
     },
     "execution_count": 25,
     "metadata": {},
     "output_type": "execute_result"
    }
   ],
   "source": [
    "stats.f_oneway(student[student[\"Smoking\"]==0][\"Sprint\"], student[student[\"Smoking\"]==1][\"Sprint\"], student[student[\"Smoking\"]==2][\"Sprint\"])"
   ]
  },
  {
   "cell_type": "code",
   "execution_count": null,
   "id": "99988110",
   "metadata": {},
   "outputs": [],
   "source": [
    "student = student[[\"Sprint\", \"Smoking\"]].dropna()"
   ]
  },
  {
   "cell_type": "code",
   "execution_count": 27,
   "id": "d252874a",
   "metadata": {},
   "outputs": [
    {
     "data": {
      "text/html": [
       "<div>\n",
       "<style scoped>\n",
       "    .dataframe tbody tr th:only-of-type {\n",
       "        vertical-align: middle;\n",
       "    }\n",
       "\n",
       "    .dataframe tbody tr th {\n",
       "        vertical-align: top;\n",
       "    }\n",
       "\n",
       "    .dataframe thead th {\n",
       "        text-align: right;\n",
       "    }\n",
       "</style>\n",
       "<table border=\"1\" class=\"dataframe\">\n",
       "  <thead>\n",
       "    <tr style=\"text-align: right;\">\n",
       "      <th></th>\n",
       "      <th>Sprint</th>\n",
       "    </tr>\n",
       "    <tr>\n",
       "      <th>Smoking</th>\n",
       "      <th></th>\n",
       "    </tr>\n",
       "  </thead>\n",
       "  <tbody>\n",
       "    <tr>\n",
       "      <th>0.0</th>\n",
       "      <td>6.411487</td>\n",
       "    </tr>\n",
       "    <tr>\n",
       "      <th>1.0</th>\n",
       "      <td>6.835333</td>\n",
       "    </tr>\n",
       "    <tr>\n",
       "      <th>2.0</th>\n",
       "      <td>7.120915</td>\n",
       "    </tr>\n",
       "  </tbody>\n",
       "</table>\n",
       "</div>"
      ],
      "text/plain": [
       "           Sprint\n",
       "Smoking          \n",
       "0.0      6.411487\n",
       "1.0      6.835333\n",
       "2.0      7.120915"
      ]
     },
     "execution_count": 27,
     "metadata": {},
     "output_type": "execute_result"
    }
   ],
   "source": [
    "student.groupby(\"Smoking\").mean()"
   ]
  },
  {
   "cell_type": "code",
   "execution_count": 28,
   "id": "17258d38",
   "metadata": {},
   "outputs": [],
   "source": [
    "import statsmodels.api as sm"
   ]
  },
  {
   "cell_type": "code",
   "execution_count": 29,
   "id": "2fc34528",
   "metadata": {},
   "outputs": [],
   "source": [
    "from statsmodels.formula.api import ols"
   ]
  },
  {
   "cell_type": "code",
   "execution_count": 30,
   "id": "fa58f27f",
   "metadata": {},
   "outputs": [],
   "source": [
    "mod = ols(\"Sprint ~ C(Smoking)\", data=student).fit()"
   ]
  },
  {
   "cell_type": "code",
   "execution_count": 31,
   "id": "954ba6c0",
   "metadata": {},
   "outputs": [
    {
     "data": {
      "text/html": [
       "<div>\n",
       "<style scoped>\n",
       "    .dataframe tbody tr th:only-of-type {\n",
       "        vertical-align: middle;\n",
       "    }\n",
       "\n",
       "    .dataframe tbody tr th {\n",
       "        vertical-align: top;\n",
       "    }\n",
       "\n",
       "    .dataframe thead th {\n",
       "        text-align: right;\n",
       "    }\n",
       "</style>\n",
       "<table border=\"1\" class=\"dataframe\">\n",
       "  <thead>\n",
       "    <tr style=\"text-align: right;\">\n",
       "      <th></th>\n",
       "      <th>df</th>\n",
       "      <th>sum_sq</th>\n",
       "      <th>mean_sq</th>\n",
       "      <th>F</th>\n",
       "      <th>PR(&gt;F)</th>\n",
       "    </tr>\n",
       "  </thead>\n",
       "  <tbody>\n",
       "    <tr>\n",
       "      <th>C(Smoking)</th>\n",
       "      <td>2.0</td>\n",
       "      <td>26.788189</td>\n",
       "      <td>13.394095</td>\n",
       "      <td>9.2086</td>\n",
       "      <td>0.000127</td>\n",
       "    </tr>\n",
       "    <tr>\n",
       "      <th>Residual</th>\n",
       "      <td>350.0</td>\n",
       "      <td>509.082077</td>\n",
       "      <td>1.454520</td>\n",
       "      <td>NaN</td>\n",
       "      <td>NaN</td>\n",
       "    </tr>\n",
       "  </tbody>\n",
       "</table>\n",
       "</div>"
      ],
      "text/plain": [
       "               df      sum_sq    mean_sq       F    PR(>F)\n",
       "C(Smoking)    2.0   26.788189  13.394095  9.2086  0.000127\n",
       "Residual    350.0  509.082077   1.454520     NaN       NaN"
      ]
     },
     "execution_count": 31,
     "metadata": {},
     "output_type": "execute_result"
    }
   ],
   "source": [
    "sm.stats.anova_lm(mod, typ=1)"
   ]
  },
  {
   "cell_type": "code",
   "execution_count": null,
   "id": "b723fd72",
   "metadata": {},
   "outputs": [],
   "source": []
  }
 ],
 "metadata": {
  "kernelspec": {
   "display_name": "Python 3 (ipykernel)",
   "language": "python",
   "name": "python3"
  },
  "language_info": {
   "codemirror_mode": {
    "name": "ipython",
    "version": 3
   },
   "file_extension": ".py",
   "mimetype": "text/x-python",
   "name": "python",
   "nbconvert_exporter": "python",
   "pygments_lexer": "ipython3",
   "version": "3.9.12"
  }
 },
 "nbformat": 4,
 "nbformat_minor": 5
}
